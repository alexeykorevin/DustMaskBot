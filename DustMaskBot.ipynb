{
 "cells": [
  {
   "cell_type": "code",
   "execution_count": null,
   "metadata": {},
   "outputs": [],
   "source": [
    "from selenium import webdriver\n",
    "from selenium.webdriver.chrome.options import Options\n",
    "import requests\n",
    "import time\n",
    "import os\n",
    "\n",
    "def telegram_bot_sendtext(bot_message, bot_chatID, bot_token):\n",
    "    send_text = 'https://api.telegram.org/bot' + bot_token + '/sendMessage?chat_id=' + bot_chatID + '&parse_mode=Markdown&text=' + bot_message\n",
    "    proxies = {\n",
    "        'http': 'http://34.90.113.143:3128',\n",
    "        'https': 'https://34.90.113.143:3128'\n",
    "    }\n",
    "    response = requests.get(send_text, proxies=proxies)\n",
    "    return response.json()\n",
    "\n",
    "shops = []\n",
    "with open('shops.txt', encoding='utf-8') as f:\n",
    "    for line in f:\n",
    "        shop = [l.strip() for l in line.split(',')]\n",
    "        shops.append(shop)\n",
    "\n",
    "USER_CHATID = os.getenv(\"USER_CHATID\")\n",
    "GROUP_CHATID = os.getenv(\"GROUP_CHATID\")\n",
    "TOKEN = os.getenv(\"TOKEN\")\n",
    "\n",
    "telegram_bot_sendtext(\"Бот запущен\", USER_CHATID, TOKEN)\n",
    "\n",
    "options = Options()\n",
    "options.add_argument(\"--disable-notifications\")\n",
    "options.add_argument(\"--start-maximized\")\n",
    "options.add_argument(\"--window-size=1920x1080\")\n",
    "options.add_argument('--disable-gpu')\n",
    "options.add_argument('--no-sandbox')\n",
    "options.add_argument('--disable-extensions')\n",
    "# options.add_argument('--headless')\n",
    "\n",
    "driver = webdriver.Chrome(options=options)\n",
    "\n",
    "while True:\n",
    "    for s in shops:\n",
    "        driver.get(s[0])\n",
    "        if not driver.find_elements_by_xpath(\"//*[text()[contains(.,'\"+ s[1] +\"')]]\"):\n",
    "            telegram_bot_sendtext(\"Маска 3М 8122 (8132) в наличии в магазине '{s1}':\\n{s2}\".format(s1=s[2],\n",
    "                                                                                                       s2=s[0].replace('_', '\\_')),\n",
    "                                  GROUP_CHATID,\n",
    "                                  TOKEN)\n",
    "    time.sleep(300)\n",
    "\n",
    "driver.quit()"
   ]
  },
  {
   "cell_type": "code",
   "execution_count": null,
   "metadata": {},
   "outputs": [],
   "source": []
  }
 ],
 "metadata": {
  "kernelspec": {
   "display_name": "Python 3",
   "language": "python",
   "name": "python3"
  },
  "language_info": {
   "codemirror_mode": {
    "name": "ipython",
    "version": 3
   },
   "file_extension": ".py",
   "mimetype": "text/x-python",
   "name": "python",
   "nbconvert_exporter": "python",
   "pygments_lexer": "ipython3",
   "version": "3.7.4"
  }
 },
 "nbformat": 4,
 "nbformat_minor": 2
}
